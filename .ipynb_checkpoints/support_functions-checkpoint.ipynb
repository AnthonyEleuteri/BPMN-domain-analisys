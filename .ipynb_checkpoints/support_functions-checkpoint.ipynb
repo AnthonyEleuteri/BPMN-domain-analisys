{
 "cells": [
  {
   "cell_type": "code",
   "execution_count": null,
   "id": "8b4f211a",
   "metadata": {},
   "outputs": [],
   "source": [
    "# Notebook con funzioni di supporto globali\n",
    "import numpy as np\n",
    "import pandas as pd\n",
    "import ast\n",
    "import re\n",
    "import chardet\n",
    "\n",
    "# Funzione che dato un 'path' restituisce il suo encoding.  \n",
    "def get_file_encoding(file_path):\n",
    "    with open(file_path, 'rb') as f:\n",
    "        content=f.read()\n",
    "        result = chardet.detect(content)\n",
    "        return result['encoding']\n"
   ]
  }
 ],
 "metadata": {
  "kernelspec": {
   "display_name": "Python 3 (ipykernel)",
   "language": "python",
   "name": "python3"
  },
  "language_info": {
   "codemirror_mode": {
    "name": "ipython",
    "version": 3
   },
   "file_extension": ".py",
   "mimetype": "text/x-python",
   "name": "python",
   "nbconvert_exporter": "python",
   "pygments_lexer": "ipython3",
   "version": "3.11.5"
  }
 },
 "nbformat": 4,
 "nbformat_minor": 5
}
