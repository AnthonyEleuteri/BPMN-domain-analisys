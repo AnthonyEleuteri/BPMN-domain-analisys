{
 "cells": [
  {
   "cell_type": "code",
   "execution_count": 1,
   "id": "2d806697",
   "metadata": {},
   "outputs": [
    {
     "ename": "NameError",
     "evalue": "name 'set_seed' is not defined",
     "output_type": "error",
     "traceback": [
      "\u001b[0;31m---------------------------------------------------------------------------\u001b[0m",
      "\u001b[0;31mNameError\u001b[0m                                 Traceback (most recent call last)",
      "Cell \u001b[0;32mIn[1], line 7\u001b[0m\n\u001b[1;32m      4\u001b[0m \u001b[38;5;28;01mfrom\u001b[39;00m \u001b[38;5;21;01mtransformers\u001b[39;00m \u001b[38;5;28;01mimport\u001b[39;00m GPT2Tokenizer, GPT2Model\n\u001b[1;32m      6\u001b[0m \u001b[38;5;66;03m# Set seed for reproducibility.\u001b[39;00m\n\u001b[0;32m----> 7\u001b[0m set_seed(\u001b[38;5;241m123\u001b[39m)\n\u001b[1;32m      9\u001b[0m \u001b[38;5;66;03m# Number of training epochs (authors on fine-tuning Bert recommend between 2 and 4).\u001b[39;00m\n\u001b[1;32m     10\u001b[0m epochs \u001b[38;5;241m=\u001b[39m \u001b[38;5;241m4\u001b[39m\n",
      "\u001b[0;31mNameError\u001b[0m: name 'set_seed' is not defined"
     ]
    }
   ],
   "source": [
    "import pandas as pd\n",
    "import numpy as np\n",
    "import nltk\n",
    "import chardet\n",
    "from transformers import GPT2Tokenizer, GPT2Model\n",
    "\n",
    "# Set seed for reproducibility.\n",
    "np.random.seed(123)\n",
    "# Number of training epochs (authors on fine-tuning Bert recommend between 2 and 4).\n",
    "epochs = 4\n",
    "\n",
    "# mi prendo l'encoding del file    \n",
    "def get_file_encoding(file_path):\n",
    "    with open(file_path, 'rb') as f:\n",
    "        result = chardet.detect(f.read())\n",
    "        return result['encoding']\n",
    "\n",
    "tokenizer = GPT2Tokenizer.from_pretrained(\"gpt2\")\n",
    "tokenizer.add_special_tokens({'pad_token': '[PAD]'})\n",
    "\n",
    "# vedo l'encoding del file\n",
    "file_path_for_training_cleaned = './BPMNtraining.csv'\n",
    "input_file_encoding = get_file_encoding(file_path_for_training_cleaned)\n",
    "print(f\"L'encoding del file '{file_path_for_training_cleaned}' è: {input_file_encoding}\")\n",
    "\n",
    "# Loading the DataFrame\n",
    "df = pd.read_csv(file_path_for_training_cleaned, sep=';', engine='python', encoding=input_file_encoding)\n",
    "\n",
    "# trova la lunghezza per il padding ideale\n",
    "max_length = max(df['Labels'].apply(lambda x: len(x.split())))\n",
    "\n",
    "# Taking DATA for training my model\n",
    "X = tokenizer(df['Labels'].tolist(), padding=True, truncation=True, max_length=max_length, return_tensors=\"pt\")\n",
    "y = torch.tensor(df['CollectionName'])\n",
    "\n",
    "# Taking the tokens from data\n",
    "for labels in X:\n",
    "    tokens = tokenizer.tokenize(labels)\n",
    "    X_tokens.append(tokens)\n",
    "    \n",
    "# Print dell'indice e dell'elemento corrispondente di X_tokens\n",
    "for i, tokens in enumerate(X_tokens[:300]):\n",
    "    print(f\"\\nIndice: {i}, Tokens: {tokens}\")\n",
    "    \n"
   ]
  },
  {
   "cell_type": "code",
   "execution_count": 5,
   "id": "f27ad6d0",
   "metadata": {},
   "outputs": [
    {
     "name": "stdout",
     "output_type": "stream",
     "text": [
      "L'encoding del file './BPMNtraining.csv' è: ascii\n"
     ]
    }
   ],
   "source": [
    "import pandas as pd\n",
    "import numpy as np\n",
    "from sklearn.preprocessing import LabelEncoder\n",
    "import torch\n",
    "import nltk\n",
    "import chardet\n",
    "from transformers import GPT2Tokenizer, GPT2Model, GPT2ForSequenceClassification,TrainingArguments, Trainer\n",
    "\n",
    "# Set seed for reproducibility.\n",
    "np.random.seed(123)\n",
    "\n",
    "# Number of training epochs (authors on fine-tuning Bert recommend between 2 and 4).\n",
    "epochs = 4\n",
    "\n",
    "# mi prendo l'encoding del file    \n",
    "def get_file_encoding(file_path):\n",
    "    with open(file_path, 'rb') as f:\n",
    "        result = chardet.detect(f.read())\n",
    "        return result['encoding']\n",
    "\n",
    "tokenizer = GPT2Tokenizer.from_pretrained(\"gpt2\")\n",
    "tokenizer.add_special_tokens({'pad_token': '[PAD]'})\n",
    "\n",
    "# vedo l'encoding del file\n",
    "file_path_for_training_cleaned = './BPMNtraining.csv'\n",
    "input_file_encoding = get_file_encoding(file_path_for_training_cleaned)\n",
    "print(f\"L'encoding del file '{file_path_for_training_cleaned}' è: {input_file_encoding}\")\n",
    "\n",
    "# Loading the DataFrame\n",
    "df = pd.read_csv(file_path_for_training_cleaned, sep=';', engine='python', encoding=input_file_encoding)\n",
    "\n",
    "# trova la lunghezza per il padding ideale\n",
    "max_length = max(df['Labels'].apply(lambda x: len(x.split())))\n",
    "\n",
    "# Codifica delle etichette\n",
    "label_encoder = LabelEncoder()\n",
    "y_encoded = label_encoder.fit_transform(df['CollectionName'])\n",
    "\n",
    "\n",
    "# Taking DATA for training my model\n",
    "X = tokenizer(df['Labels'].tolist(), padding=True, truncation=True, max_length=max_length, return_tensors=\"pt\")\n",
    "y = torch.tensor(y_encoded)\n",
    "\n",
    "# Create a TensorDataset containing the tokenized data and labels.\n",
    "dataset = TensorDataset(X.input_ids, X.attention_mask, torch.tensor(y_encoded))\n",
    "\n",
    "# Define the model for sequence classification.\n",
    "model = GPT2ForSequenceClassification.from_pretrained(\"gpt2\", num_labels=len(label_encoder.classes_))\n"
   ]
  },
  {
   "cell_type": "code",
   "execution_count": null,
   "id": "2bb07a0e",
   "metadata": {},
   "outputs": [],
   "source": []
  }
 ],
 "metadata": {
  "kernelspec": {
   "display_name": "Python 3 (ipykernel)",
   "language": "python",
   "name": "python3"
  },
  "language_info": {
   "codemirror_mode": {
    "name": "ipython",
    "version": 3
   },
   "file_extension": ".py",
   "mimetype": "text/x-python",
   "name": "python",
   "nbconvert_exporter": "python",
   "pygments_lexer": "ipython3",
   "version": "3.11.5"
  }
 },
 "nbformat": 4,
 "nbformat_minor": 5
}
